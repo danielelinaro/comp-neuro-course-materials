{
 "cells": [
  {
   "cell_type": "code",
   "execution_count": null,
   "metadata": {},
   "outputs": [],
   "source": [
    "import numpy as np\n",
    "import matplotlib.pyplot as plt\n",
    "import seaborn as sns\n",
    "%matplotlib inline"
   ]
  },
  {
   "cell_type": "code",
   "execution_count": null,
   "metadata": {},
   "outputs": [],
   "source": [
    "C      = 400e-12           # [F]\n",
    "tau    = 20e-3             # [s]\n",
    "Rm     = tau / C           # [Ω]\n",
    "gL     = 1 / Rm            # [S]\n",
    "EL     = -70e-3            # [V]\n",
    "Vth    = -54e-3            # [V]\n",
    "Vreset = -65e-3            # [V]\n",
    "Ie = [0, 250e-12, 500e-12] # [A]"
   ]
  },
  {
   "cell_type": "code",
   "execution_count": null,
   "metadata": {},
   "outputs": [],
   "source": [
    "dt = 0.01e-3\n",
    "tend = 0.1 + dt\n",
    "t = np.r_[0 : tend : dt]\n",
    "n_samples = t.size\n",
    "Vm = np.zeros((len(Ie), n_samples))\n",
    "for i,ie in enumerate(Ie):\n",
    "    Vm[i,0] = EL + 10e-3\n",
    "    for j in range(1,n_samples):\n",
    "        Vm[i,j] = Vm[i,j-1] + dt / C * (gL * (EL - Vm[i,j-1]) + ie)\n",
    "Vm_with_spikes = np.zeros(n_samples)\n",
    "Vm_with_spikes[0] = EL + 10e-3\n",
    "nice_spikes = True\n",
    "for j in range(1,n_samples):\n",
    "    Vm_with_spikes[j] = Vm_with_spikes[j-1] + \\\n",
    "        dt / C * (gL * (EL - Vm_with_spikes[j-1]) + np.max(Ie))\n",
    "    if Vm_with_spikes[j] > Vth:\n",
    "        if nice_spikes:\n",
    "            Vm_with_spikes[j-1] = 10e-3\n",
    "        Vm_with_spikes[j] = Vreset\n",
    "t *= 1e3\n",
    "Vm *= 1e3\n",
    "Vm_with_spikes *= 1e3"
   ]
  },
  {
   "cell_type": "code",
   "execution_count": null,
   "metadata": {},
   "outputs": [],
   "source": [
    "fig,ax = plt.subplots(1, 1, figsize=(5, 3))\n",
    "cmap = plt.get_cmap('Set1', len(Ie))\n",
    "with_spikes = True\n",
    "for i,V in enumerate(Vm):\n",
    "    if not with_spikes or Ie[i] != np.max(Ie):\n",
    "        ax.plot(t, V, lw=2, color=cmap(i),\n",
    "                label=r'I$_e$ = {:.0f} pA'.format(Ie[i]*1e12))\n",
    "if with_spikes:\n",
    "    ax.plot(t, Vm_with_spikes, lw=2, color=cmap(i),\n",
    "           label=r'I$_e$ = {:.0f} pA'.format(Ie[i]*1e12))\n",
    "ax.plot([0, tend * 1e3], Vth * 1e3 + np.zeros(2), 'k--', lw=2)\n",
    "ax.grid(which='major', axis='both', lw=0.5, ls=':', color=[.6,.6,.6])\n",
    "ax.set_xlabel('Time (ms)', fontsize=12)\n",
    "ax.set_ylabel(r'V$_m$ (mV)', fontsize=12)\n",
    "ax.legend(loc='upper left', frameon=False)\n",
    "ax.set_ylim([-71, -44])\n",
    "ax.set_xlim([-3, tend*1e3 + 3])\n",
    "sns.despine()\n",
    "fig.tight_layout()"
   ]
  }
 ],
 "metadata": {
  "kernelspec": {
   "display_name": "Python 3 (ipykernel)",
   "language": "python",
   "name": "python3"
  },
  "language_info": {
   "codemirror_mode": {
    "name": "ipython",
    "version": 3
   },
   "file_extension": ".py",
   "mimetype": "text/x-python",
   "name": "python",
   "nbconvert_exporter": "python",
   "pygments_lexer": "ipython3",
   "version": "3.10.13"
  }
 },
 "nbformat": 4,
 "nbformat_minor": 4
}
