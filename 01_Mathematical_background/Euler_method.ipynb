{
 "cells": [
  {
   "cell_type": "markdown",
   "id": "d947700a",
   "metadata": {},
   "source": [
    "# Euler integration method"
   ]
  },
  {
   "cell_type": "code",
   "execution_count": 1,
   "id": "025a87c1",
   "metadata": {},
   "outputs": [],
   "source": [
    "import numpy as np\n",
    "from scipy.integrate import solve_ivp\n",
    "import matplotlib.pyplot as plt\n",
    "import seaborn as sns\n",
    "%matplotlib inline"
   ]
  },
  {
   "cell_type": "markdown",
   "id": "b8c4a49b",
   "metadata": {},
   "source": [
    "Let's start by considering the simplest form of Euler's method.\n",
    "\n",
    "Given a system of ODEs of the form\n",
    "\n",
    "$\\frac{dx}{dt} = f(x)$,\n",
    "\n",
    "we approximate it according to the following expression:\n",
    "\n",
    "$f(x) = \\frac{dx}{dt} = \\lim_{\\Delta t\\rightarrow0} \\frac{x(t+\\Delta t) - x(t)}{\\Delta t} \\approx \\frac{x(t+\\Delta t) - x(t)}{\\Delta t}$,\n",
    "\n",
    "which is valid when $\\Delta t$ is small enough (relative to the characteristic time(s) of the system we are considering).\n",
    "We can therefore write the iterative expression for the _approximate_ solution $x(t)$ as\n",
    "\n",
    "$x(t+h) = x(t) + \\Delta t f(x(t))$.\n",
    "\n",
    "As an iterative rule, this reads\n",
    "\n",
    "$x_{n+1} = x_n + \\Delta t f(x_n)$\n",
    "\n",
    "The following code implements this formula:"
   ]
  },
  {
   "cell_type": "code",
   "execution_count": 2,
   "id": "f87bd965",
   "metadata": {},
   "outputs": [],
   "source": [
    "def euler(func, t_span, y0, h):\n",
    "    n_dim = len(y0)\n",
    "    t = np.arange(t_span[0],t_span[1],h)\n",
    "    n_steps = len(t)\n",
    "    y = np.zeros((n_dim,n_steps))\n",
    "    y[:,0] = y0\n",
    "    for i in range(n_steps-1):\n",
    "        y[:,i+1] = y[:,i] + h * func(t[i],y[:,i]) \n",
    "    return t,y"
   ]
  },
  {
   "cell_type": "markdown",
   "id": "b5d982a6",
   "metadata": {},
   "source": [
    "One of the downsides of Euler's method is that it uses the derivative $f(x)$ only in $x_n$, i.e., at the left end of each time interval. We can therefore improve the method by first estimating the solution at step $n+1$ using the standard method (which we shall call $\\tilde{x}_{n+1}$, computing the derivative $f(\\tilde{x}_{n+1})$ and then calculating the next solution $x_{n+1}$ by using a weighted average of the values of the derivative at _both_ ends of the time interval.\n",
    "\n",
    "In formulas, this reads\n",
    "\n",
    "$\\tilde{x}_{n+1} = x_n + \\Delta t f(x_n)$\n",
    "\n",
    "$x_{n+1} = x_n + \\frac{1}{2} \\Delta t \\left[ f(x_n) + f(\\tilde{x}_{n+1}) \\right]$\n",
    "\n",
    "The following code implements this formula:"
   ]
  },
  {
   "cell_type": "code",
   "execution_count": 3,
   "id": "6c477a77",
   "metadata": {},
   "outputs": [],
   "source": [
    "def euler_midpoint(func, t_span, y0, h):\n",
    "    n_dim = len(y0)\n",
    "    t = np.arange(t_span[0],t_span[1],h)\n",
    "    n_steps = len(t)\n",
    "    y = np.zeros((n_dim,n_steps))\n",
    "    y[:,0] = y0\n",
    "    half_h = h/2\n",
    "    for i in range(n_steps-1):\n",
    "        fy = func(t[i],y[:,i])\n",
    "        y_guess = y[:,i] + h * fy\n",
    "        y[:,i+1] = y[:,i] + half_h * (fy + func(t[i+1],y_guess)) \n",
    "    return t,y"
   ]
  },
  {
   "cell_type": "markdown",
   "id": "97153cfe",
   "metadata": {},
   "source": [
    "### The system\n",
    "For this example, we use the following logistic equation (see [here](Logistic_equation.ipynb) for more information about this system):\n",
    "\n",
    "$\\dot{N} = r N (1-\\frac{N}{k})$"
   ]
  },
  {
   "cell_type": "code",
   "execution_count": 4,
   "id": "7d0346f9",
   "metadata": {},
   "outputs": [],
   "source": [
    "logistic = lambda t,N,r,k: r*N*(1-N/k)\n",
    "r,k = 0.1,10\n",
    "# characteristic time constant\n",
    "τ = 1/r\n",
    "func = lambda t,x: logistic(t,x,r,k)\n",
    "jac = lambda t,x: logistic_jac(t,x,r,k)"
   ]
  },
  {
   "cell_type": "markdown",
   "id": "12e94b46",
   "metadata": {},
   "source": [
    "### Perform the integration"
   ]
  },
  {
   "cell_type": "code",
   "execution_count": 5,
   "id": "b39b24d7",
   "metadata": {},
   "outputs": [],
   "source": [
    "N0 = 1e-3\n",
    "tspan = [0,20*τ]\n",
    "dt = 0.05*τ\n",
    "t = np.r_[tspan[0] : tspan[1] : dt]\n",
    "# Conventional Euler\n",
    "t_fw,y_fw = euler(func, tspan, [N0], dt)\n",
    "# Improved Euler\n",
    "t_fw_imp,y_fw_imp = euler_midpoint(func, tspan, [N0], dt)\n",
    "# Runge-Kutta of order 5(4)\n",
    "sol = solve_ivp(func, tspan, [N0], rtol=1e-6, atol=1e-8, method='RK45')"
   ]
  },
  {
   "cell_type": "code",
   "execution_count": 6,
   "id": "c1724006",
   "metadata": {},
   "outputs": [
    {
     "name": "stdout",
     "output_type": "stream",
     "text": [
      "Runge-Kutta computed the solution at 51 time instants.\n",
      "Euler used 400 points.\n"
     ]
    }
   ],
   "source": [
    "print('Runge-Kutta computed the solution at {} time instants.'.format(sol.t.size))\n",
    "print('Euler used {} points.'.format(t.size))"
   ]
  },
  {
   "cell_type": "markdown",
   "id": "0a3167c6",
   "metadata": {},
   "source": [
    "### The exact solution\n",
    "Given $N(t_0) = N_0$, the solution to the previous ODE can be computed analytically:\n",
    "\n",
    "$N(t) = \\frac{k}{1 + A\\mathrm{e}^{-rt}}$,\n",
    "\n",
    "with $A=\\frac{k}{N_0}-1$."
   ]
  },
  {
   "cell_type": "code",
   "execution_count": 7,
   "id": "b8678d9c",
   "metadata": {},
   "outputs": [],
   "source": [
    "sol_exact = lambda t,r,k,N0: k/(1+(k/N0-1)*np.exp(-r*t))\n",
    "y = sol_exact(t, r, k, N0)\n",
    "# we also calculate the exact solution at the time instants where solve_ivp computes its solution\n",
    "y_ds = sol_exact(sol.t, r, k, N0)"
   ]
  },
  {
   "cell_type": "markdown",
   "id": "688f3959",
   "metadata": {},
   "source": [
    "### Plot the results"
   ]
  },
  {
   "cell_type": "code",
   "execution_count": 8,
   "id": "a74aea7e",
   "metadata": {},
   "outputs": [
    {
     "data": {
      "image/png": "[encoded data removed]",
      "text/plain": [
       "<Figure size 500x400 with 2 Axes>"
      ]
     },
     "metadata": {},
     "output_type": "display_data"
    }
   ],
   "source": [
    "fig,ax = plt.subplots(2, 1, figsize=(5,4), sharex=True)\n",
    "\n",
    "red = [1,0,0]\n",
    "green = [0,.7,0]\n",
    "magenta = [1,0,1]\n",
    "ax[0].plot(t, y, 'k', lw=1, label='Exact')\n",
    "ax[0].plot(t_fw, y_fw[0], lw=1, color=red, label='FW Euler')\n",
    "ax[0].plot(t_fw, y_fw_imp[0], lw=1, color=magenta, label='FW Euler (midpoint)')\n",
    "ax[0].plot(sol.t, sol.y[0], 'o-', markerfacecolor='w', markersize=3, markeredgewidth=0.5,\n",
    "           lw=0.5, color=green, label='RK45')\n",
    "ax[0].legend(loc='upper left', frameon=False)\n",
    "ax[0].set_ylabel('N(t)')\n",
    "\n",
    "ax[1].plot(t, np.abs(y-y_fw[0])/y*100, lw=1, color=red)\n",
    "ax[1].plot(t, np.abs(y-y_fw_imp[0])/y*100, lw=1, color=magenta)\n",
    "ax[1].plot(sol.t, np.abs(y_ds-sol.y[0])/y_ds*100, lw=1, color=green)\n",
    "ax[1].set_yscale('log')\n",
    "ax[1].set_xlabel('Time')\n",
    "ax[1].set_ylabel('Percent relative error')\n",
    "\n",
    "sns.despine()\n",
    "fig.tight_layout()"
   ]
  }
 ],
 "metadata": {
  "kernelspec": {
   "display_name": "Python 3 (ipykernel)",
   "language": "python",
   "name": "python3"
  },
  "language_info": {
   "codemirror_mode": {
    "name": "ipython",
    "version": 3
   },
   "file_extension": ".py",
   "mimetype": "text/x-python",
   "name": "python",
   "nbconvert_exporter": "python",
   "pygments_lexer": "ipython3",
   "version": "3.10.13"
  }
 },
 "nbformat": 4,
 "nbformat_minor": 5
}
