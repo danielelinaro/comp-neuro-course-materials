{
 "cells": [
  {
   "cell_type": "code",
   "execution_count": null,
   "id": "d43656ce",
   "metadata": {},
   "outputs": [],
   "source": [
    "import numpy as np\n",
    "from scipy.integrate import solve_ivp\n",
    "import matplotlib.pyplot as plt\n",
    "import seaborn as sns\n",
    "%matplotlib inline"
   ]
  },
  {
   "cell_type": "code",
   "execution_count": null,
   "id": "234466eb",
   "metadata": {},
   "outputs": [],
   "source": [
    "f = lambda t,x: x**2 - 1\n",
    "y0 = 0\n",
    "tspan = [0,10]\n",
    "dt = 0.1\n",
    "t = np.r_[tspan[0] : tspan[1] : dt]\n",
    "A = (y0+1)/(y0-1)\n",
    "y  = 1 +  2 / (A*np.exp(-2*t)-1)\n",
    "sol = solve_ivp(f, tspan, [y0], t_eval=t)"
   ]
  },
  {
   "cell_type": "code",
   "execution_count": null,
   "id": "8de132ca",
   "metadata": {},
   "outputs": [],
   "source": [
    "fig,ax = plt.subplots(1, 1, figsize=(5,3))\n",
    "ax.plot(sol.t, sol.y[0], 'k', lw=2, label='Numerical')\n",
    "ax.plot(t, y, 'r--', lw=2, label='Exact')\n",
    "ax.legend(loc='upper right', frameon=False)\n",
    "ax.set_xlabel('t')\n",
    "ax.set_ylabel('y(t)')\n",
    "sns.despine()\n",
    "fig.tight_layout()"
   ]
  }
 ],
 "metadata": {
  "kernelspec": {
   "display_name": "Python 3 (ipykernel)",
   "language": "python",
   "name": "python3"
  },
  "language_info": {
   "codemirror_mode": {
    "name": "ipython",
    "version": 3
   },
   "file_extension": ".py",
   "mimetype": "text/x-python",
   "name": "python",
   "nbconvert_exporter": "python",
   "pygments_lexer": "ipython3",
   "version": "3.10.13"
  }
 },
 "nbformat": 4,
 "nbformat_minor": 5
}
