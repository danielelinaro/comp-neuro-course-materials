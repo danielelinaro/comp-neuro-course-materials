{
 "cells": [
  {
   "cell_type": "code",
   "execution_count": null,
   "id": "c2771bf3",
   "metadata": {},
   "outputs": [],
   "source": [
    "import numpy as np\n",
    "import matplotlib.pyplot as plt\n",
    "import seaborn as sns\n",
    "from brian2 import *"
   ]
  },
  {
   "cell_type": "code",
   "execution_count": null,
   "id": "797d20bc",
   "metadata": {},
   "outputs": [],
   "source": [
    "facilitating = False\n",
    "if facilitating:\n",
    "    pars = {\n",
    "        'tau_mem': 60,\n",
    "        'R_in': 1000,\n",
    "        'pre_rate': 70,\n",
    "        'tau_inact': 1.5,\n",
    "        'tau_rec': 130,\n",
    "        'tau_facil': 530,\n",
    "        'A_SE': 1540,\n",
    "        'U_SE': 0.03\n",
    "    }\n",
    "else:\n",
    "    pars = {\n",
    "        'tau_mem': 40,\n",
    "        'R_in': 100,\n",
    "        'pre_rate': 20,\n",
    "        'tau_inact': 3,\n",
    "        'tau_rec': 800,\n",
    "        'A_SE': 250,\n",
    "        'U_SE': 0.6\n",
    "    }\n"
   ]
  },
  {
   "cell_type": "code",
   "execution_count": null,
   "id": "67816094",
   "metadata": {},
   "outputs": [],
   "source": [
    "neuron_eqs =  \"\"\"\n",
    "tau_mem : second\n",
    "I_syn : ampere\n",
    "R_in : ohm\n",
    "dV/dt = -V/tau_mem + (R_in*I_syn)/tau_mem : volt\n",
    "\"\"\"\n",
    "neuron = NeuronGroup(1, neuron_eqs, method='exact', name='neuron')\n",
    "neuron.tau_mem = pars['tau_mem']*ms\n",
    "neuron.R_in = pars['R_in']*Mohm"
   ]
  },
  {
   "cell_type": "code",
   "execution_count": null,
   "id": "0f5e63ed",
   "metadata": {},
   "outputs": [],
   "source": [
    "delay = 100*ms\n",
    "n_spikes = 20\n",
    "pre_firing_rate = pars['pre_rate']*Hz\n",
    "pre_spike_times = delay + np.arange(n_spikes)/pre_firing_rate\n",
    "indices = np.zeros(n_spikes)\n",
    "stimulus = SpikeGeneratorGroup(1, indices, pre_spike_times, name='stimulus')"
   ]
  },
  {
   "cell_type": "code",
   "execution_count": null,
   "id": "28f8921e",
   "metadata": {},
   "outputs": [],
   "source": [
    "synapse_eqs = \"\"\"\n",
    "dx/dt =  z/tau_rec : 1 (clock-driven)    # fraction recovered\n",
    "dy/dt = -y/tau_inact  : 1 (clock-driven) # fraction active\n",
    "z = 1 - x - y : 1                        # fraction inactive\n",
    "A_SE : ampere\n",
    "U_SE : 1\n",
    "tau_rec : second\n",
    "tau_inact : second\n",
    "I_syn_post = A_SE*y : ampere (summed)\n",
    "\"\"\"\n",
    "\n",
    "if facilitating:\n",
    "    synapse_eqs = synapse_eqs + \"\"\"\n",
    "    du/dt = -u/tau_facil : 1 (clock-driven)\n",
    "    tau_facil : second\n",
    "    \"\"\"\n",
    "    synapse_actions = \"\"\"\n",
    "    u += U_SE*(1-u)\n",
    "    y += u*x\n",
    "    x -= u*x\n",
    "    \"\"\"\n",
    "else:\n",
    "    synapse_actions = \"\"\"\n",
    "    y += U_SE*x\n",
    "    x -= U_SE*x\n",
    "    \"\"\"\n",
    "\n",
    "synapse = Synapses(stimulus, neuron, model=synapse_eqs, on_pre=synapse_actions, method='exponential_euler')\n",
    "synapse.connect(p=1)\n",
    "synapse.x = 1\n",
    "synapse.y = 0\n",
    "synapse.tau_inact = pars['tau_inact']*ms\n",
    "synapse.tau_rec = pars['tau_rec']*ms\n",
    "if facilitating:\n",
    "    synapse.tau_facil = pars['tau_facil']*ms\n",
    "synapse.A_SE = pars['A_SE']*pA\n",
    "synapse.U_SE = pars['U_SE']"
   ]
  },
  {
   "cell_type": "code",
   "execution_count": null,
   "id": "6c01a40f",
   "metadata": {},
   "outputs": [],
   "source": [
    "neuron_mon = StateMonitor(neuron, ['V'], record=True)"
   ]
  },
  {
   "cell_type": "code",
   "execution_count": null,
   "id": "2bff557c",
   "metadata": {},
   "outputs": [],
   "source": [
    "tend = pre_spike_times[-1] + 5*pars['tau_mem']*ms\n",
    "run(tend)\n",
    "t = neuron_mon.t/ms\n",
    "V = neuron_mon.V[0]/mV"
   ]
  },
  {
   "cell_type": "code",
   "execution_count": null,
   "id": "847c96ff",
   "metadata": {},
   "outputs": [],
   "source": [
    "fig,ax = plt.subplots(1, 1, figsize=(7,2))\n",
    "ax.plot(t, V, 'k', lw=1)\n",
    "ax.set_xlabel('Time (ms)')\n",
    "ax.set_ylabel('V (mV)')\n",
    "sns.despine()\n",
    "fig.tight_layout()"
   ]
  }
 ],
 "metadata": {
  "kernelspec": {
   "display_name": "Python 3 (ipykernel)",
   "language": "python",
   "name": "python3"
  },
  "language_info": {
   "codemirror_mode": {
    "name": "ipython",
    "version": 3
   },
   "file_extension": ".py",
   "mimetype": "text/x-python",
   "name": "python",
   "nbconvert_exporter": "python",
   "pygments_lexer": "ipython3",
   "version": "3.10.13"
  }
 },
 "nbformat": 4,
 "nbformat_minor": 5
}
