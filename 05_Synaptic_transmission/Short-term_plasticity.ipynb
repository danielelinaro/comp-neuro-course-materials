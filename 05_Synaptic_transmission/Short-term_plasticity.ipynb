{
 "cells": [
  {
   "cell_type": "code",
   "execution_count": null,
   "id": "6bf7abbb",
   "metadata": {},
   "outputs": [],
   "source": [
    "import numpy as np\n",
    "import matplotlib.pyplot as plt\n",
    "import seaborn as sns\n",
    "from brian2 import *"
   ]
  },
  {
   "cell_type": "code",
   "execution_count": null,
   "id": "2017be01",
   "metadata": {},
   "outputs": [],
   "source": [
    "def make_gamma_spike_train(k, rate, tend=None, Nev=None, refractory_period=0, random_state=None):\n",
    "    from scipy.stats import gamma\n",
    "    if Nev is None and tend is not None:\n",
    "        Nev = int(np.ceil(tend * rate * 1.5))\n",
    "    ISIs = []\n",
    "    while len(ISIs) < Nev:\n",
    "        ISI = gamma.rvs(k, loc=0, scale=1 / (k * rate), size=1, random_state=random_state)\n",
    "        if ISI > refractory_period:\n",
    "            ISIs.append(ISI)\n",
    "    spks = np.cumsum(ISIs)\n",
    "    if tend is not None:\n",
    "        spks = spks[spks < tend]\n",
    "    return spks\n",
    "\n",
    "\n",
    "make_poisson_spike_train = lambda rate, tend=None, Nev=None, refractory_period=0, random_state=None: \\\n",
    "    make_gamma_spike_train(1, rate, tend, Nev, refractory_period, random_state)"
   ]
  },
  {
   "cell_type": "code",
   "execution_count": null,
   "id": "f4f0c5db",
   "metadata": {},
   "outputs": [],
   "source": [
    "facilitating = False\n",
    "if facilitating:\n",
    "    pars = {\n",
    "        'tau_mem': 60,\n",
    "        'R_in': 1000,\n",
    "        'pre_rate': [15, 30, 60],\n",
    "        'tau_inact': 1.5,\n",
    "        'tau_rec': 130,\n",
    "        'tau_facil': 530,\n",
    "        'A_SE': 1540,\n",
    "        'U_SE': 0.03\n",
    "    }\n",
    "else:\n",
    "    pars = {\n",
    "        'tau_mem': 40,\n",
    "        'R_in': 100,\n",
    "        'pre_rate': [15, 30, 60],\n",
    "        'tau_inact': 3,\n",
    "        'tau_rec': 800,\n",
    "        'A_SE': 250,\n",
    "        'U_SE': 0.6\n",
    "    }"
   ]
  },
  {
   "cell_type": "code",
   "execution_count": null,
   "id": "8e357aea",
   "metadata": {},
   "outputs": [],
   "source": [
    "neuron_eqs =  \"\"\"\n",
    "tau_mem : second\n",
    "I_syn : ampere\n",
    "R_in : ohm\n",
    "dV/dt = -V/tau_mem + (R_in*I_syn)/tau_mem : volt\n",
    "\"\"\"\n",
    "neuron = NeuronGroup(1, neuron_eqs, method='exact', name='neuron')\n",
    "neuron.tau_mem = pars['tau_mem']*ms\n",
    "neuron.R_in = pars['R_in']*Mohm"
   ]
  },
  {
   "cell_type": "raw",
   "id": "1af5de96",
   "metadata": {},
   "source": [
    "pre_firing_rate = pars['pre_rate']*Hz\n",
    "poisson_pre = PoissonGroup(1000, rates=pre_firing_rate, name='poisson_pre')"
   ]
  },
  {
   "cell_type": "code",
   "execution_count": null,
   "id": "8ffa4b28",
   "metadata": {},
   "outputs": [],
   "source": [
    "pre_firing_rates = pars['pre_rate']*Hz\n",
    "n_pre = 1000\n",
    "stim_dur = 0.5 # [s]\n",
    "t_before = 0.1 # [s]\n",
    "pre_spike_times = [[make_poisson_spike_train(rate, tend=stim_dur, refractory_period=1e-3)+i*stim_dur \\\n",
    "                    for _ in range(n_pre)] for i,rate in enumerate(pre_firing_rates)]\n",
    "indices = [[i+np.zeros(spks.size) for i,spks in enumerate(spikes)] for spikes in pre_spike_times]\n",
    "poisson_pre = SpikeGeneratorGroup(n_pre,\n",
    "                                  np.concatenate([np.concatenate(idx) for idx in indices]),\n",
    "                                  (np.concatenate([np.concatenate(spks) for spks in pre_spike_times]) \\\n",
    "                                   + t_before)*second,\n",
    "                                  name='stimulus')"
   ]
  },
  {
   "cell_type": "code",
   "execution_count": null,
   "id": "98f90da9",
   "metadata": {},
   "outputs": [],
   "source": [
    "synapse_eqs = \"\"\"\n",
    "dx/dt =  z/tau_rec : 1 (clock-driven)    # fraction recovered\n",
    "dy/dt = -y/tau_inact  : 1 (clock-driven) # fraction active\n",
    "z = 1 - x - y : 1                        # fraction inactive\n",
    "A_SE : ampere\n",
    "U_SE : 1\n",
    "tau_rec : second\n",
    "tau_inact : second\n",
    "I_syn_post = A_SE*y : ampere (summed)\n",
    "\"\"\"\n",
    "\n",
    "if facilitating:\n",
    "    synapse_eqs = synapse_eqs + \"\"\"\n",
    "    du/dt = -u/tau_facil : 1 (clock-driven)\n",
    "    tau_facil : second\n",
    "    \"\"\"\n",
    "    synapse_actions = \"\"\"\n",
    "    u += U_SE*(1-u)\n",
    "    y += u*x\n",
    "    x -= u*x\n",
    "    \"\"\"\n",
    "else:\n",
    "    synapse_actions = \"\"\"\n",
    "    y += U_SE*x\n",
    "    x -= U_SE*x\n",
    "    \"\"\"\n",
    "\n",
    "synapses = Synapses(poisson_pre, neuron, model=synapse_eqs, on_pre=synapse_actions, method='exponential_euler')\n",
    "synapses.connect(p=1)\n",
    "synapses.x = 1\n",
    "synapses.y = 0\n",
    "synapses.tau_inact = pars['tau_inact']*ms\n",
    "synapses.tau_rec = pars['tau_rec']*ms\n",
    "if facilitating:\n",
    "    synapses.tau_facil = pars['tau_facil']*ms\n",
    "synapses.A_SE = pars['A_SE']*pA\n",
    "synapses.U_SE = pars['U_SE']"
   ]
  },
  {
   "cell_type": "code",
   "execution_count": null,
   "id": "44a62e8b",
   "metadata": {},
   "outputs": [],
   "source": [
    "neuron_mon = StateMonitor(neuron, ['V'], record=True)\n",
    "synapses_mon = StateMonitor(synapses, ['x','y'], record=True)"
   ]
  },
  {
   "cell_type": "code",
   "execution_count": null,
   "id": "4c659902",
   "metadata": {},
   "outputs": [],
   "source": [
    "tend = (pre_firing_rates.size * stim_dur + t_before + 0.1) * second\n",
    "defaultclock.dt = 0.025*ms\n",
    "run(tend)\n",
    "t = neuron_mon.t/ms\n",
    "y = synapses_mon.y\n",
    "I_syn = np.sum(y * pars['A_SE']*pA, axis=0) / nA"
   ]
  },
  {
   "cell_type": "code",
   "execution_count": null,
   "id": "3358230e",
   "metadata": {},
   "outputs": [],
   "source": [
    "fig,ax = plt.subplots(1, 1, figsize=(7,2))\n",
    "ax.plot(t, I_syn, 'k', lw=1)\n",
    "ax.set_xlabel('Time (ms)')\n",
    "ax.set_ylabel(r'$I_{syn}$ (nA)')\n",
    "sns.despine()\n",
    "fig.tight_layout()"
   ]
  }
 ],
 "metadata": {
  "kernelspec": {
   "display_name": "Python 3 (ipykernel)",
   "language": "python",
   "name": "python3"
  },
  "language_info": {
   "codemirror_mode": {
    "name": "ipython",
    "version": 3
   },
   "file_extension": ".py",
   "mimetype": "text/x-python",
   "name": "python",
   "nbconvert_exporter": "python",
   "pygments_lexer": "ipython3",
   "version": "3.10.13"
  }
 },
 "nbformat": 4,
 "nbformat_minor": 5
}
