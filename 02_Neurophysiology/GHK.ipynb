{
 "cells": [
  {
   "cell_type": "code",
   "execution_count": null,
   "metadata": {},
   "outputs": [],
   "source": [
    "import numpy as np\n",
    "from scipy.optimize import curve_fit\n",
    "import matplotlib.pyplot as plt\n",
    "import seaborn as sns"
   ]
  },
  {
   "cell_type": "code",
   "execution_count": null,
   "metadata": {},
   "outputs": [],
   "source": [
    "Nernst = lambda C_out, C_in, z: R * T / (z * F) * np.log(C_out / C_in)\n",
    "def GHK(V, C_out, C_in, z, P):\n",
    "    RT = R * T\n",
    "    e = np.exp(-z * F * V / RT)\n",
    "    return P * (z * F) ** 2 / RT * V * ((C_in - C_out * e) / (1 - e))"
   ]
  },
  {
   "cell_type": "code",
   "execution_count": null,
   "metadata": {},
   "outputs": [],
   "source": [
    "F = 96485.3      # [A s mol^-1]\n",
    "R = 8.3145       # [J K^-1 mol^-1]\n",
    "T = 273.15 + 6.3 # [K]\n",
    "C_in = {'K': 400e-3, 'Na': 50e-3, 'Cl': 40e-3, 'Ca': 1e-7}     # [mol]\n",
    "C_out = {'K': 20e-3, 'Na': 440e-3, 'Cl': 560e-3, 'Ca': 10e-3}  # [mol]\n",
    "z = {'K': 1, 'Na': 1, 'Cl': -1, 'Ca': 2} # [1]\n",
    "P = {'K': 1, 'Na': 1, 'Cl': 1, 'Ca': 1}  # [cm s^-1]\n",
    "E = {key: Nernst(C_out[key], C_in[key], z[key]) for key in z}"
   ]
  },
  {
   "cell_type": "code",
   "execution_count": null,
   "metadata": {},
   "outputs": [],
   "source": [
    "V = np.linspace(-150, 100, 200) * 1e-3\n",
    "I = {key: GHK(V, C_out[key], C_in[key], z[key], P[key]) for key in z}"
   ]
  },
  {
   "cell_type": "code",
   "execution_count": null,
   "metadata": {},
   "outputs": [],
   "source": [
    "fig,ax = plt.subplots(1, 1, figsize=(5,3))\n",
    "for key in I:\n",
    "    ax.plot(V * 1e3, I[key] * 1e-3, lw=1, label=key)\n",
    "ax.set_xlabel('V (mV)')\n",
    "ax.set_ylabel(r'I (mA/cm$^2$)')\n",
    "ax.legend(loc='lower right', frameon=False)\n",
    "sns.despine()\n",
    "fig.tight_layout()"
   ]
  },
  {
   "cell_type": "code",
   "execution_count": null,
   "metadata": {},
   "outputs": [],
   "source": [
    "ion = 'K'\n",
    "idx, = np.where((V > -0.1) & (V < 0.05))\n",
    "Ix = lambda Vm,gx,Ex: gx * (Vm - Ex)\n",
    "popt,_ = curve_fit(lambda Vm, gx: Ix(Vm, gx, E[ion]), V[idx], I[ion][idx])\n",
    "fig,ax = plt.subplots(1, 1, figsize=(5, 3))\n",
    "ax.plot(V * 1e3, I[ion] * 1e-5, 'k', lw=2)\n",
    "ax.plot([-100,50], Ix([-0.1,0.05], popt[0], E[ion]) * 1e-5, 'r', lw=2)\n",
    "ax.plot(E[ion] * 1e3 + np.zeros(2), ylim, 'm--', lw=1)\n",
    "ax.plot(ax.get_xlim(), np.zeros(2), 'm--', lw=1)\n",
    "ax.grid(which='major', lw=0.5, ls=':')\n",
    "ax.set_xlabel(r'V$_m$ (mV)', fontsize=12)\n",
    "ax.set_ylabel(r'I$_{{{}}}$ (mA/cm$^2$)'.format(ion), fontsize=12)\n",
    "ax.set_xlim([-100, 50])\n",
    "xticks = list(range(-100, 51, 50))\n",
    "xticklabels = [f'{xtick:.0f}' for xtick in xticks]\n",
    "xticks.append(int(E[ion] * 1e3))\n",
    "xticklabels.append(r'E$_{}$'.format(ion))\n",
    "idx = np.argsort(xticks)\n",
    "xticks = [xticks[i] for i in idx]\n",
    "xticklabels = [xticklabels[i] for i in idx]\n",
    "ax.set_xticks(xticks)\n",
    "ax.set_xticklabels(xticklabels)\n",
    "sns.despine()\n",
    "fig.tight_layout()"
   ]
  },
  {
   "cell_type": "code",
   "execution_count": null,
   "metadata": {},
   "outputs": [],
   "source": [
    "V = np.linspace(-100, 50, 150) * 1e-3\n",
    "I = {key: GHK(V, C_out[key], C_in[key], z[key], P[key]) for key in z}\n",
    "Ix = lambda Vm, gx, Ex: gx * (Vm - Ex)\n",
    "cmap = {'Na': [0,1,0], 'K': [1,0,1], 'Cl': [1,0.5,0], 'Ca': [.5,1,1]}\n",
    "popt = {}\n",
    "Itot = 0\n",
    "gL = 0\n",
    "IL = 0\n",
    "ions = 'K', 'Na', 'Cl'\n",
    "fig,ax = plt.subplots(1, 1, figsize=(5,3))\n",
    "for ion in ions:\n",
    "    popt[ion],_ = curve_fit(lambda Vm, gx: Ix(Vm, gx, E[ion]), V, I[ion])\n",
    "    gL += popt[ion][0]\n",
    "    IL += popt[ion][0] * E[ion]\n",
    "    Itot += I[ion]\n",
    "    ax.plot(V * 1e3, I[ion] * 1e-5, color=cmap[ion], label=ion)\n",
    "    ax.plot(V * 1e3, Ix(V, popt[ion][0], E[ion]) * 1e-5, '--', color=cmap[ion])\n",
    "EL = IL / gL\n",
    "ax.plot(V * 1e3, Itot * 1e-5, 'k', label='total')\n",
    "ax.plot(V * 1e3, Ix(V, gL, EL) * 1e-5, 'k--')\n",
    "ax.legend(loc='lower right', frameon=False)\n",
    "sns.despine()\n",
    "ax.grid(which='major', axis='both', lw=0.5, ls=':', color=[.6,.6,.6])\n",
    "ax.set_xlabel(r'V$_m$ (mV)', fontsize=12)\n",
    "ax.set_ylabel(r'I$_{{{}}}$ (mA/cm$^2$)'.format(ion), fontsize=12)\n",
    "fig.tight_layout()"
   ]
  }
 ],
 "metadata": {
  "kernelspec": {
   "display_name": "Python 3 (ipykernel)",
   "language": "python",
   "name": "python3"
  },
  "language_info": {
   "codemirror_mode": {
    "name": "ipython",
    "version": 3
   },
   "file_extension": ".py",
   "mimetype": "text/x-python",
   "name": "python",
   "nbconvert_exporter": "python",
   "pygments_lexer": "ipython3",
   "version": "3.10.13"
  }
 },
 "nbformat": 4,
 "nbformat_minor": 4
}
